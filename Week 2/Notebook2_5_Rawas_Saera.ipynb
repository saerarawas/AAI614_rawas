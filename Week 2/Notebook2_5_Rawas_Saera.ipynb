{
  "cells": [
    {
      "cell_type": "markdown",
      "metadata": {
        "id": "view-in-github",
        "colab_type": "text"
      },
      "source": [
        "<a href=\"https://colab.research.google.com/github/saerarawas/AAI614_rawas/blob/main/Week%202/Notebook2_5_Rawas_Saera.ipynb\" target=\"_parent\"><img src=\"https://colab.research.google.com/assets/colab-badge.svg\" alt=\"Open In Colab\"/></a>"
      ]
    },
    {
      "cell_type": "markdown",
      "metadata": {
        "id": "qvX_yC-ZPMfe"
      },
      "source": [
        "# AAI614: Data Science & its Applications\n",
        "\n",
        "*Notebook 2.5: Practice with Parquet and File Types*\n",
        "\n",
        "<a href=\"https://colab.research.google.com/github/harmanani/AAI614/blob/main/Week%202/Notebook2.5.ipynb\" target=\"_parent\"><img src=\"https://colab.research.google.com/assets/colab-badge.svg\" alt=\"Open In Colab\"/></a>"
      ]
    },
    {
      "cell_type": "code",
      "execution_count": 1,
      "metadata": {
        "id": "Ry4yL5TtPMff"
      },
      "outputs": [],
      "source": [
        "import pandas as pd\n",
        "import time\n",
        "import ssl\n",
        "\n",
        "ssl._create_default_https_context = ssl._create_unverified_context"
      ]
    },
    {
      "cell_type": "code",
      "execution_count": 2,
      "metadata": {
        "id": "fsdb5cPBPMfg"
      },
      "outputs": [],
      "source": [
        "class Timer:\n",
        "    def __enter__(self):\n",
        "        self.start = time.perf_counter()\n",
        "        return self\n",
        "\n",
        "    def __exit__(self, *args):\n",
        "        self.end = time.perf_counter()\n",
        "        self.interval = self.end - self.start"
      ]
    },
    {
      "cell_type": "markdown",
      "metadata": {
        "id": "c0Pt4LKLPMfg"
      },
      "source": [
        "##### Read the Parqeut file and time it"
      ]
    },
    {
      "cell_type": "code",
      "execution_count": 3,
      "metadata": {
        "id": "cAc8ROs8PMfg",
        "outputId": "2fdccf33-4f39-491f-aded-274281a716c1",
        "colab": {
          "base_uri": "https://localhost:8080/"
        }
      },
      "outputs": [
        {
          "output_type": "stream",
          "name": "stdout",
          "text": [
            "0.4134820640000072\n"
          ]
        }
      ],
      "source": [
        "with Timer() as t_pd:\n",
        "    df = pd.read_parquet('https://raw.githubusercontent.com/harmanani/AAI614/main/Week%202/niaaa-report.parquet')\n",
        "print(t_pd.interval)"
      ]
    },
    {
      "cell_type": "markdown",
      "metadata": {
        "id": "65fawo9APMfg"
      },
      "source": [
        "#### Read the CSV file and time it"
      ]
    },
    {
      "cell_type": "code",
      "execution_count": 4,
      "metadata": {
        "id": "XhG2g_4EPMfh",
        "outputId": "0b1864a4-0ebe-4c0e-a642-35b588d47f74",
        "colab": {
          "base_uri": "https://localhost:8080/"
        }
      },
      "outputs": [
        {
          "output_type": "stream",
          "name": "stdout",
          "text": [
            "0.11130563400000426\n"
          ]
        }
      ],
      "source": [
        "with Timer() as t_pd:\n",
        "    df = pd.read_csv('https://raw.githubusercontent.com/harmanani/AAI614/main/Week%202/niaaa-report.csv')\n",
        "print(t_pd.interval)"
      ]
    },
    {
      "cell_type": "markdown",
      "metadata": {
        "id": "m2Ycxrw3PMfh"
      },
      "source": [
        "#### Read the ZIP file and time it"
      ]
    },
    {
      "cell_type": "code",
      "execution_count": 5,
      "metadata": {
        "id": "dw9xnJxsPMfh",
        "outputId": "568f10e3-762b-408a-a875-6921af18a27f",
        "colab": {
          "base_uri": "https://localhost:8080/"
        }
      },
      "outputs": [
        {
          "output_type": "stream",
          "name": "stdout",
          "text": [
            "0.11846520400000315\n"
          ]
        }
      ],
      "source": [
        "import zipfile\n",
        "with Timer() as t_pd:\n",
        "    df = pd.read_csv('https://raw.githubusercontent.com/harmanani/AAI614/main/Week%202/niaaa-report.zip', compression=\"zip\")\n",
        "print(t_pd.interval)"
      ]
    },
    {
      "cell_type": "markdown",
      "metadata": {
        "id": "xsp-pUauPMfi"
      },
      "source": []
    }
  ],
  "metadata": {
    "kernelspec": {
      "display_name": "Python 3",
      "language": "python",
      "name": "python3"
    },
    "language_info": {
      "codemirror_mode": {
        "name": "ipython",
        "version": 3
      },
      "file_extension": ".py",
      "mimetype": "text/x-python",
      "name": "python",
      "nbconvert_exporter": "python",
      "pygments_lexer": "ipython3",
      "version": "3.10.11"
    },
    "colab": {
      "provenance": [],
      "include_colab_link": true
    }
  },
  "nbformat": 4,
  "nbformat_minor": 0
}