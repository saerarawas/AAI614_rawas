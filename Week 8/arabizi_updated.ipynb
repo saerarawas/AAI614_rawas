{
  "cells": [
    {
      "cell_type": "markdown",
      "metadata": {
        "id": "view-in-github",
        "colab_type": "text"
      },
      "source": [
        "<a href=\"https://colab.research.google.com/github/saerarawas/AAI614_rawas/blob/main/Week%208/arabizi_updated.ipynb\" target=\"_parent\"><img src=\"https://colab.research.google.com/assets/colab-badge.svg\" alt=\"Open In Colab\"/></a>"
      ]
    },
    {
      "cell_type": "markdown",
      "id": "5639149e",
      "metadata": {
        "id": "5639149e"
      },
      "source": [
        "# AAI614: Data Science & its Applications\n",
        "\n",
        "*Notebook 8.4: Classifying Sentiments in Arabizi*\n",
        "\n",
        "<a href=\"https://colab.research.google.com/github/harmanani/AAI614/blob/main/Week%208/Notebook8.4.ipynb\" target=\"_parent\"><img src=\"https://colab.research.google.com/assets/colab-badge.svg\" alt=\"Open In Colab\"/></a>\n",
        "\n",
        "Please check the following [paper](https://github.com/harmanani/AAI614/blob/main/Week%208/Arabizi.pdf) for reference purposes."
      ]
    },
    {
      "cell_type": "code",
      "execution_count": 84,
      "id": "b5260708",
      "metadata": {
        "id": "b5260708"
      },
      "outputs": [],
      "source": [
        "import io\n",
        "import pandas as pd\n",
        "import re\n",
        "import csv\n",
        "from random import shuffle\n",
        "import tensorflow as tf\n",
        "import numpy as np\n",
        "from tensorflow.keras.preprocessing.text import Tokenizer\n",
        "from tensorflow.keras.preprocessing.sequence import pad_sequences\n",
        "import matplotlib.pyplot as plt\n",
        "import ssl\n",
        "from tensorflow.keras.layers import Embedding, LSTM, Dense, Bidirectional, Dropout, Conv1D, MaxPooling1D\n",
        "\n",
        "ssl._create_default_https_context = ssl._create_unverified_context\n",
        "\n",
        "# Use the raw file URL for reading the CSV\n",
        "csvfile = pd.read_csv(\"https://raw.githubusercontent.com/harmanani/AAI614/main/Week%208/2-class-sentiment-arabizi.csv\")\n",
        "# Now you can use the csvfile DataFrame"
      ]
    },
    {
      "cell_type": "code",
      "execution_count": 85,
      "id": "e0626490",
      "metadata": {
        "colab": {
          "base_uri": "https://localhost:8080/",
          "height": 423
        },
        "id": "e0626490",
        "outputId": "6fa4889b-dcbb-4ccc-e2ed-393539ee90e2"
      },
      "outputs": [
        {
          "output_type": "execute_result",
          "data": {
            "text/plain": [
              "                                                  tweet sentiment  \\\n",
              "0                    @Douniakatibi eh ktir bahdaleeeeee  Negative   \n",
              "1                              Shu b7bk ya beirut 😍❤️🌲   Positive   \n",
              "2                         L liste shwe ktir mesh zabta   Negative   \n",
              "3     @trissaabiissa ktir helo ltalej bs bye7la bo w...  Positive   \n",
              "4               akh ya allah ghachaytine dehek hahahaha  Positive   \n",
              "...                                                 ...       ...   \n",
              "1195          Lakk ya 1000 halaaa 🤣😍 ehh hayda 7akee 🤣   Positive   \n",
              "1196  Knt ktir yenzal dam rehet al hospital w kouwyo...  Positive   \n",
              "1197  @fadelkaadan anna bi beirut bas raj3anee 3a Mi...  Negative   \n",
              "1198  Sma3et sot bel beit mich mestarjeye odhar men ...  Negative   \n",
              "1199                   ya allah enta w batnak hahahaha   Positive   \n",
              "\n",
              "           highlight  \n",
              "0                NaN  \n",
              "1     Courtesy words  \n",
              "2                NaN  \n",
              "3                NaN  \n",
              "4                NaN  \n",
              "...              ...  \n",
              "1195             NaN  \n",
              "1196             NaN  \n",
              "1197             NaN  \n",
              "1198             NaN  \n",
              "1199            Joke  \n",
              "\n",
              "[1200 rows x 3 columns]"
            ],
            "text/html": [
              "\n",
              "  <div id=\"df-7becac2d-1ef8-410a-b63f-710a2d01db3e\" class=\"colab-df-container\">\n",
              "    <div>\n",
              "<style scoped>\n",
              "    .dataframe tbody tr th:only-of-type {\n",
              "        vertical-align: middle;\n",
              "    }\n",
              "\n",
              "    .dataframe tbody tr th {\n",
              "        vertical-align: top;\n",
              "    }\n",
              "\n",
              "    .dataframe thead th {\n",
              "        text-align: right;\n",
              "    }\n",
              "</style>\n",
              "<table border=\"1\" class=\"dataframe\">\n",
              "  <thead>\n",
              "    <tr style=\"text-align: right;\">\n",
              "      <th></th>\n",
              "      <th>tweet</th>\n",
              "      <th>sentiment</th>\n",
              "      <th>highlight</th>\n",
              "    </tr>\n",
              "  </thead>\n",
              "  <tbody>\n",
              "    <tr>\n",
              "      <th>0</th>\n",
              "      <td>@Douniakatibi eh ktir bahdaleeeeee</td>\n",
              "      <td>Negative</td>\n",
              "      <td>NaN</td>\n",
              "    </tr>\n",
              "    <tr>\n",
              "      <th>1</th>\n",
              "      <td>Shu b7bk ya beirut 😍❤️🌲</td>\n",
              "      <td>Positive</td>\n",
              "      <td>Courtesy words</td>\n",
              "    </tr>\n",
              "    <tr>\n",
              "      <th>2</th>\n",
              "      <td>L liste shwe ktir mesh zabta</td>\n",
              "      <td>Negative</td>\n",
              "      <td>NaN</td>\n",
              "    </tr>\n",
              "    <tr>\n",
              "      <th>3</th>\n",
              "      <td>@trissaabiissa ktir helo ltalej bs bye7la bo w...</td>\n",
              "      <td>Positive</td>\n",
              "      <td>NaN</td>\n",
              "    </tr>\n",
              "    <tr>\n",
              "      <th>4</th>\n",
              "      <td>akh ya allah ghachaytine dehek hahahaha</td>\n",
              "      <td>Positive</td>\n",
              "      <td>NaN</td>\n",
              "    </tr>\n",
              "    <tr>\n",
              "      <th>...</th>\n",
              "      <td>...</td>\n",
              "      <td>...</td>\n",
              "      <td>...</td>\n",
              "    </tr>\n",
              "    <tr>\n",
              "      <th>1195</th>\n",
              "      <td>Lakk ya 1000 halaaa 🤣😍 ehh hayda 7akee 🤣</td>\n",
              "      <td>Positive</td>\n",
              "      <td>NaN</td>\n",
              "    </tr>\n",
              "    <tr>\n",
              "      <th>1196</th>\n",
              "      <td>Knt ktir yenzal dam rehet al hospital w kouwyo...</td>\n",
              "      <td>Positive</td>\n",
              "      <td>NaN</td>\n",
              "    </tr>\n",
              "    <tr>\n",
              "      <th>1197</th>\n",
              "      <td>@fadelkaadan anna bi beirut bas raj3anee 3a Mi...</td>\n",
              "      <td>Negative</td>\n",
              "      <td>NaN</td>\n",
              "    </tr>\n",
              "    <tr>\n",
              "      <th>1198</th>\n",
              "      <td>Sma3et sot bel beit mich mestarjeye odhar men ...</td>\n",
              "      <td>Negative</td>\n",
              "      <td>NaN</td>\n",
              "    </tr>\n",
              "    <tr>\n",
              "      <th>1199</th>\n",
              "      <td>ya allah enta w batnak hahahaha</td>\n",
              "      <td>Positive</td>\n",
              "      <td>Joke</td>\n",
              "    </tr>\n",
              "  </tbody>\n",
              "</table>\n",
              "<p>1200 rows × 3 columns</p>\n",
              "</div>\n",
              "    <div class=\"colab-df-buttons\">\n",
              "\n",
              "  <div class=\"colab-df-container\">\n",
              "    <button class=\"colab-df-convert\" onclick=\"convertToInteractive('df-7becac2d-1ef8-410a-b63f-710a2d01db3e')\"\n",
              "            title=\"Convert this dataframe to an interactive table.\"\n",
              "            style=\"display:none;\">\n",
              "\n",
              "  <svg xmlns=\"http://www.w3.org/2000/svg\" height=\"24px\" viewBox=\"0 -960 960 960\">\n",
              "    <path d=\"M120-120v-720h720v720H120Zm60-500h600v-160H180v160Zm220 220h160v-160H400v160Zm0 220h160v-160H400v160ZM180-400h160v-160H180v160Zm440 0h160v-160H620v160ZM180-180h160v-160H180v160Zm440 0h160v-160H620v160Z\"/>\n",
              "  </svg>\n",
              "    </button>\n",
              "\n",
              "  <style>\n",
              "    .colab-df-container {\n",
              "      display:flex;\n",
              "      gap: 12px;\n",
              "    }\n",
              "\n",
              "    .colab-df-convert {\n",
              "      background-color: #E8F0FE;\n",
              "      border: none;\n",
              "      border-radius: 50%;\n",
              "      cursor: pointer;\n",
              "      display: none;\n",
              "      fill: #1967D2;\n",
              "      height: 32px;\n",
              "      padding: 0 0 0 0;\n",
              "      width: 32px;\n",
              "    }\n",
              "\n",
              "    .colab-df-convert:hover {\n",
              "      background-color: #E2EBFA;\n",
              "      box-shadow: 0px 1px 2px rgba(60, 64, 67, 0.3), 0px 1px 3px 1px rgba(60, 64, 67, 0.15);\n",
              "      fill: #174EA6;\n",
              "    }\n",
              "\n",
              "    .colab-df-buttons div {\n",
              "      margin-bottom: 4px;\n",
              "    }\n",
              "\n",
              "    [theme=dark] .colab-df-convert {\n",
              "      background-color: #3B4455;\n",
              "      fill: #D2E3FC;\n",
              "    }\n",
              "\n",
              "    [theme=dark] .colab-df-convert:hover {\n",
              "      background-color: #434B5C;\n",
              "      box-shadow: 0px 1px 3px 1px rgba(0, 0, 0, 0.15);\n",
              "      filter: drop-shadow(0px 1px 2px rgba(0, 0, 0, 0.3));\n",
              "      fill: #FFFFFF;\n",
              "    }\n",
              "  </style>\n",
              "\n",
              "    <script>\n",
              "      const buttonEl =\n",
              "        document.querySelector('#df-7becac2d-1ef8-410a-b63f-710a2d01db3e button.colab-df-convert');\n",
              "      buttonEl.style.display =\n",
              "        google.colab.kernel.accessAllowed ? 'block' : 'none';\n",
              "\n",
              "      async function convertToInteractive(key) {\n",
              "        const element = document.querySelector('#df-7becac2d-1ef8-410a-b63f-710a2d01db3e');\n",
              "        const dataTable =\n",
              "          await google.colab.kernel.invokeFunction('convertToInteractive',\n",
              "                                                    [key], {});\n",
              "        if (!dataTable) return;\n",
              "\n",
              "        const docLinkHtml = 'Like what you see? Visit the ' +\n",
              "          '<a target=\"_blank\" href=https://colab.research.google.com/notebooks/data_table.ipynb>data table notebook</a>'\n",
              "          + ' to learn more about interactive tables.';\n",
              "        element.innerHTML = '';\n",
              "        dataTable['output_type'] = 'display_data';\n",
              "        await google.colab.output.renderOutput(dataTable, element);\n",
              "        const docLink = document.createElement('div');\n",
              "        docLink.innerHTML = docLinkHtml;\n",
              "        element.appendChild(docLink);\n",
              "      }\n",
              "    </script>\n",
              "  </div>\n",
              "\n",
              "\n",
              "<div id=\"df-92e19446-4bbf-4b5f-88c6-6dd0f0abd1f2\">\n",
              "  <button class=\"colab-df-quickchart\" onclick=\"quickchart('df-92e19446-4bbf-4b5f-88c6-6dd0f0abd1f2')\"\n",
              "            title=\"Suggest charts\"\n",
              "            style=\"display:none;\">\n",
              "\n",
              "<svg xmlns=\"http://www.w3.org/2000/svg\" height=\"24px\"viewBox=\"0 0 24 24\"\n",
              "     width=\"24px\">\n",
              "    <g>\n",
              "        <path d=\"M19 3H5c-1.1 0-2 .9-2 2v14c0 1.1.9 2 2 2h14c1.1 0 2-.9 2-2V5c0-1.1-.9-2-2-2zM9 17H7v-7h2v7zm4 0h-2V7h2v10zm4 0h-2v-4h2v4z\"/>\n",
              "    </g>\n",
              "</svg>\n",
              "  </button>\n",
              "\n",
              "<style>\n",
              "  .colab-df-quickchart {\n",
              "      --bg-color: #E8F0FE;\n",
              "      --fill-color: #1967D2;\n",
              "      --hover-bg-color: #E2EBFA;\n",
              "      --hover-fill-color: #174EA6;\n",
              "      --disabled-fill-color: #AAA;\n",
              "      --disabled-bg-color: #DDD;\n",
              "  }\n",
              "\n",
              "  [theme=dark] .colab-df-quickchart {\n",
              "      --bg-color: #3B4455;\n",
              "      --fill-color: #D2E3FC;\n",
              "      --hover-bg-color: #434B5C;\n",
              "      --hover-fill-color: #FFFFFF;\n",
              "      --disabled-bg-color: #3B4455;\n",
              "      --disabled-fill-color: #666;\n",
              "  }\n",
              "\n",
              "  .colab-df-quickchart {\n",
              "    background-color: var(--bg-color);\n",
              "    border: none;\n",
              "    border-radius: 50%;\n",
              "    cursor: pointer;\n",
              "    display: none;\n",
              "    fill: var(--fill-color);\n",
              "    height: 32px;\n",
              "    padding: 0;\n",
              "    width: 32px;\n",
              "  }\n",
              "\n",
              "  .colab-df-quickchart:hover {\n",
              "    background-color: var(--hover-bg-color);\n",
              "    box-shadow: 0 1px 2px rgba(60, 64, 67, 0.3), 0 1px 3px 1px rgba(60, 64, 67, 0.15);\n",
              "    fill: var(--button-hover-fill-color);\n",
              "  }\n",
              "\n",
              "  .colab-df-quickchart-complete:disabled,\n",
              "  .colab-df-quickchart-complete:disabled:hover {\n",
              "    background-color: var(--disabled-bg-color);\n",
              "    fill: var(--disabled-fill-color);\n",
              "    box-shadow: none;\n",
              "  }\n",
              "\n",
              "  .colab-df-spinner {\n",
              "    border: 2px solid var(--fill-color);\n",
              "    border-color: transparent;\n",
              "    border-bottom-color: var(--fill-color);\n",
              "    animation:\n",
              "      spin 1s steps(1) infinite;\n",
              "  }\n",
              "\n",
              "  @keyframes spin {\n",
              "    0% {\n",
              "      border-color: transparent;\n",
              "      border-bottom-color: var(--fill-color);\n",
              "      border-left-color: var(--fill-color);\n",
              "    }\n",
              "    20% {\n",
              "      border-color: transparent;\n",
              "      border-left-color: var(--fill-color);\n",
              "      border-top-color: var(--fill-color);\n",
              "    }\n",
              "    30% {\n",
              "      border-color: transparent;\n",
              "      border-left-color: var(--fill-color);\n",
              "      border-top-color: var(--fill-color);\n",
              "      border-right-color: var(--fill-color);\n",
              "    }\n",
              "    40% {\n",
              "      border-color: transparent;\n",
              "      border-right-color: var(--fill-color);\n",
              "      border-top-color: var(--fill-color);\n",
              "    }\n",
              "    60% {\n",
              "      border-color: transparent;\n",
              "      border-right-color: var(--fill-color);\n",
              "    }\n",
              "    80% {\n",
              "      border-color: transparent;\n",
              "      border-right-color: var(--fill-color);\n",
              "      border-bottom-color: var(--fill-color);\n",
              "    }\n",
              "    90% {\n",
              "      border-color: transparent;\n",
              "      border-bottom-color: var(--fill-color);\n",
              "    }\n",
              "  }\n",
              "</style>\n",
              "\n",
              "  <script>\n",
              "    async function quickchart(key) {\n",
              "      const quickchartButtonEl =\n",
              "        document.querySelector('#' + key + ' button');\n",
              "      quickchartButtonEl.disabled = true;  // To prevent multiple clicks.\n",
              "      quickchartButtonEl.classList.add('colab-df-spinner');\n",
              "      try {\n",
              "        const charts = await google.colab.kernel.invokeFunction(\n",
              "            'suggestCharts', [key], {});\n",
              "      } catch (error) {\n",
              "        console.error('Error during call to suggestCharts:', error);\n",
              "      }\n",
              "      quickchartButtonEl.classList.remove('colab-df-spinner');\n",
              "      quickchartButtonEl.classList.add('colab-df-quickchart-complete');\n",
              "    }\n",
              "    (() => {\n",
              "      let quickchartButtonEl =\n",
              "        document.querySelector('#df-92e19446-4bbf-4b5f-88c6-6dd0f0abd1f2 button');\n",
              "      quickchartButtonEl.style.display =\n",
              "        google.colab.kernel.accessAllowed ? 'block' : 'none';\n",
              "    })();\n",
              "  </script>\n",
              "</div>\n",
              "\n",
              "  <div id=\"id_68876818-1ad2-4dea-9c9c-222a36e5c8ff\">\n",
              "    <style>\n",
              "      .colab-df-generate {\n",
              "        background-color: #E8F0FE;\n",
              "        border: none;\n",
              "        border-radius: 50%;\n",
              "        cursor: pointer;\n",
              "        display: none;\n",
              "        fill: #1967D2;\n",
              "        height: 32px;\n",
              "        padding: 0 0 0 0;\n",
              "        width: 32px;\n",
              "      }\n",
              "\n",
              "      .colab-df-generate:hover {\n",
              "        background-color: #E2EBFA;\n",
              "        box-shadow: 0px 1px 2px rgba(60, 64, 67, 0.3), 0px 1px 3px 1px rgba(60, 64, 67, 0.15);\n",
              "        fill: #174EA6;\n",
              "      }\n",
              "\n",
              "      [theme=dark] .colab-df-generate {\n",
              "        background-color: #3B4455;\n",
              "        fill: #D2E3FC;\n",
              "      }\n",
              "\n",
              "      [theme=dark] .colab-df-generate:hover {\n",
              "        background-color: #434B5C;\n",
              "        box-shadow: 0px 1px 3px 1px rgba(0, 0, 0, 0.15);\n",
              "        filter: drop-shadow(0px 1px 2px rgba(0, 0, 0, 0.3));\n",
              "        fill: #FFFFFF;\n",
              "      }\n",
              "    </style>\n",
              "    <button class=\"colab-df-generate\" onclick=\"generateWithVariable('csvfile')\"\n",
              "            title=\"Generate code using this dataframe.\"\n",
              "            style=\"display:none;\">\n",
              "\n",
              "  <svg xmlns=\"http://www.w3.org/2000/svg\" height=\"24px\"viewBox=\"0 0 24 24\"\n",
              "       width=\"24px\">\n",
              "    <path d=\"M7,19H8.4L18.45,9,17,7.55,7,17.6ZM5,21V16.75L18.45,3.32a2,2,0,0,1,2.83,0l1.4,1.43a1.91,1.91,0,0,1,.58,1.4,1.91,1.91,0,0,1-.58,1.4L9.25,21ZM18.45,9,17,7.55Zm-12,3A5.31,5.31,0,0,0,4.9,8.1,5.31,5.31,0,0,0,1,6.5,5.31,5.31,0,0,0,4.9,4.9,5.31,5.31,0,0,0,6.5,1,5.31,5.31,0,0,0,8.1,4.9,5.31,5.31,0,0,0,12,6.5,5.46,5.46,0,0,0,6.5,12Z\"/>\n",
              "  </svg>\n",
              "    </button>\n",
              "    <script>\n",
              "      (() => {\n",
              "      const buttonEl =\n",
              "        document.querySelector('#id_68876818-1ad2-4dea-9c9c-222a36e5c8ff button.colab-df-generate');\n",
              "      buttonEl.style.display =\n",
              "        google.colab.kernel.accessAllowed ? 'block' : 'none';\n",
              "\n",
              "      buttonEl.onclick = () => {\n",
              "        google.colab.notebook.generateWithVariable('csvfile');\n",
              "      }\n",
              "      })();\n",
              "    </script>\n",
              "  </div>\n",
              "\n",
              "    </div>\n",
              "  </div>\n"
            ],
            "application/vnd.google.colaboratory.intrinsic+json": {
              "type": "dataframe",
              "variable_name": "csvfile",
              "summary": "{\n  \"name\": \"csvfile\",\n  \"rows\": 1200,\n  \"fields\": [\n    {\n      \"column\": \"tweet\",\n      \"properties\": {\n        \"dtype\": \"string\",\n        \"num_unique_values\": 1177,\n        \"samples\": [\n          \"@Cybele_reaidy lak nchallah 3ayouuull\",\n          \"3am tehke 3anak ya bro \\u00f0\\u0178\\u02dc\\u201a\\u00f0\\u0178\\u02dc\\u201a @Gebran_Bassil \",\n          \"@DaisyOdicho @anthonyeid1 Hwe hwe helo kif ma kenn :p ma3 aw bala gyym \\ud83d\\ude0a \"\n        ],\n        \"semantic_type\": \"\",\n        \"description\": \"\"\n      }\n    },\n    {\n      \"column\": \"sentiment\",\n      \"properties\": {\n        \"dtype\": \"category\",\n        \"num_unique_values\": 2,\n        \"samples\": [\n          \"Positive\",\n          \"Negative\"\n        ],\n        \"semantic_type\": \"\",\n        \"description\": \"\"\n      }\n    },\n    {\n      \"column\": \"highlight\",\n      \"properties\": {\n        \"dtype\": \"category\",\n        \"num_unique_values\": 10,\n        \"samples\": [\n          \"Racism\",\n          \"Sarcasm\"\n        ],\n        \"semantic_type\": \"\",\n        \"description\": \"\"\n      }\n    }\n  ]\n}"
            }
          },
          "metadata": {},
          "execution_count": 85
        }
      ],
      "source": [
        "#ARABIZI_FILE = \"2-class-sentiment-arabizi.csv\"\n",
        "#csvfile = pd.read_csv(\"https://github.com/harmanani/AAI614/blob/main/Week%208/2-class-sentiment-arabizi.csv\")\n",
        "#https://github.com/harmanani/AAI614/blob/main/Week%208/2-class-sentiment-arabizi.csv\n",
        "csvfile"
      ]
    },
    {
      "cell_type": "markdown",
      "id": "7ee4f7f3",
      "metadata": {
        "id": "7ee4f7f3"
      },
      "source": [
        "As you can see, each data point is composed of a tweet, a sentiment label, and a highlight.  The highlight will not be used in this code."
      ]
    },
    {
      "cell_type": "markdown",
      "id": "485c838f",
      "metadata": {
        "id": "485c838f"
      },
      "source": [
        "## Defining useful global variables\n",
        "\n",
        "Next you will define some global variables that will be used throughout the assignment.\n",
        "\n",
        "- `NUM_WORDS`: The maximum number of words to keep, based on word frequency. Defaults to 2000.\n",
        "\n",
        "\n",
        "- `EMBEDDING_DIM`: Dimension of the dense embedding, will be used in the embedding layer of the model. Defaults to 16.\n",
        "\n",
        "\n",
        "- `MAXLEN`: Maximum length of all sequences. Defaults to 120.\n",
        "\n",
        "\n",
        "- `PADDING`: Padding strategy (pad either before or after each sequence.). Defaults to 'post'.\n",
        "\n",
        "\n",
        "- `OOV_TOKEN`: Token to replace out-of-vocabulary words during text_to_sequence calls. Defaults to \"\\<OOV>\".\n",
        "\n",
        "    \n",
        "- `TRAINING_SPLIT`: Proportion of data used for training. Defaults to 0.8\n",
        "\n",
        "**For now leave them unchanged but after submitting your assignment for grading you are encouraged to come back here and play with these parameters to see the impact they have in the classification process**"
      ]
    },
    {
      "cell_type": "code",
      "execution_count": 86,
      "id": "BuGbpXEEsTiw",
      "metadata": {
        "id": "BuGbpXEEsTiw"
      },
      "outputs": [],
      "source": [
        "NUM_WORDS = 2000\n",
        "EMBEDDING_DIM = 64\n",
        "PADDING = 'post'\n",
        "OOV_TOKEN = '<OOV>'\n",
        "TRAINING_SPLIT = 0.8\n",
        "MAXLEN = 120"
      ]
    },
    {
      "cell_type": "markdown",
      "id": "f25e9364",
      "metadata": {
        "id": "f25e9364"
      },
      "source": [
        "## Loading and pre-processing the data\n",
        "\n",
        "Now you should code the functions to remove stopwords from text and to load the data from a csv file.\n",
        "\n",
        "Since you already coded these functions for the previous week, these are provided for you."
      ]
    },
    {
      "cell_type": "code",
      "execution_count": 87,
      "id": "8039b079",
      "metadata": {
        "id": "8039b079"
      },
      "outputs": [],
      "source": [
        "def remove_stopwords(sentence):\n",
        "    # List of stopwords\n",
        "    stopwords = ['chu', 'chou', 'hal', 'chou', 'fikeee', 'eh', 'ma', '3a', '3am', '3an', '3ana', '3endon', '3m', 'aal', '3al','3ala','al', 'ana',\n",
        "                 'b', 'bas', 'bel', 'bi', 'chi', 'el', 'ele', 'enn', 'enno', 'eno', 'mch', '3layki', '3layon',\n",
        "                 'enta', 'enteh', 'eza', 'fi', 'fik', 'fina', 'fine', 'fiya', 'fiye', 'wlik', 'shi',\n",
        "                 'hal', 'hayda', 'hek', 'inta', 'iza', 'kaza', 'kel', 'kente', 'kif',\n",
        "                 'kint', 'kinte', 'l', 'la', 'la2na', 'lal', 'li', 'ma3', 'ma3a', 'ma3ak',\n",
        "                 'ma3e', 'ma3ekk', 'ma3i', 'ma3ik', 'ma3ke', 'ma3na', 'ma3o', 'men', 'mn',\n",
        "                 'n7na', 'shu', 'tab', 'tayeb', 'w', 'wlek', 'ya', 'ya3ne', 'yala', 'yalle']\n",
        "\n",
        "    # Sentence converted to lowercase-only\n",
        "    sentence = sentence.lower()\n",
        "\n",
        "    words = sentence.split()\n",
        "    no_words = [w for w in words if w not in stopwords]\n",
        "    sentence = \" \".join(no_words)\n",
        "\n",
        "    return sentence"
      ]
    },
    {
      "cell_type": "code",
      "execution_count": 88,
      "id": "9KAaSs1QSBJf",
      "metadata": {
        "id": "9KAaSs1QSBJf"
      },
      "outputs": [],
      "source": [
        "def clean_tweet(tweet):\n",
        "\n",
        "    #if isinstance(tweet, float):\n",
        "    #  return \"\"\n",
        "    temp = tweet.lower()\n",
        "    temp = re.sub(\"'\", \"\", temp) # to avoid removing contractions in english\n",
        "    temp = re.sub(\"@[A-Za-z0-9_]+\",\"\", temp)\n",
        "    temp = re.sub(\"#[A-Za-z0-9_]+\",\"\", temp)\n",
        "    temp = re.sub(r'http\\S+', '', temp)\n",
        "    temp = re.sub('[()!?]', ' ', temp)\n",
        "    temp = re.sub('\\[.*?\\]',' ', temp)\n",
        "    temp = re.sub(\"[^a-z0-9]\",\" \", temp)\n",
        "    temp = re.sub(r\"h[ha]{3,}\", \"hahaha\", temp)\n",
        "    temp = re.sub(r\"lo{1,}l\", \"lol\", temp)\n",
        "    return temp"
      ]
    },
    {
      "cell_type": "code",
      "execution_count": 89,
      "id": "Sfz4oZ08SD2a",
      "metadata": {
        "id": "Sfz4oZ08SD2a"
      },
      "outputs": [],
      "source": [
        "def parse_data_from_file(filename):\n",
        "    sentences = []\n",
        "    sentiments_labels = []\n",
        "    emotions_labels = []\n",
        "    with open(filename, 'r') as csvfile:\n",
        "        reader = csv.reader(csvfile, delimiter=',')\n",
        "        next(reader)\n",
        "        for row in reader:\n",
        "            sentiments_labels.append(row[1])\n",
        "            emotions_labels.append(row[2])\n",
        "            sentence = row[0]\n",
        "            sentence = remove_stopwords(sentence)\n",
        "            sentence = clean_tweet(sentence)\n",
        "            sentences.append(sentence)\n",
        "\n",
        "    return sentences, sentiments_labels, emotions_labels"
      ]
    },
    {
      "cell_type": "code",
      "execution_count": 90,
      "id": "5565105f",
      "metadata": {
        "colab": {
          "base_uri": "https://localhost:8080/"
        },
        "id": "5565105f",
        "outputId": "bcd06155-0c55-404b-99e2-35537f72d7c0"
      },
      "outputs": [
        {
          "output_type": "stream",
          "name": "stdout",
          "text": [
            "There are 1200 sentences in the dataset.\n",
            "\n",
            "First sentence has 5 words (after removing stopwords).\n",
            "\n",
            "First sentence has the following words: ['mich', 'rah', 'lahhe2', 'khaless', 'allahahaha'].\n",
            "\n",
            "There are 1200 emotions labels in the dataset.\n",
            "The first 5 labels are ['None', 'None', 'None', 'Known fact', 'None']\n",
            "\n",
            "There are 1200 sentiment labels in the dataset.\n",
            "\n",
            "The first 5 labels are ['Negative', 'Positive', 'Positive', 'Negative', 'Negative']\n"
          ]
        }
      ],
      "source": [
        "ARABIZI_FILE = '/content/2-class-sentiment-arabizi.csv'\n",
        "sentences, sentiments_labels,  emotions_labels = parse_data_from_file(ARABIZI_FILE)\n",
        "\n",
        "# Shuffle the lists\n",
        "temp = list(zip(sentences, sentiments_labels, emotions_labels))\n",
        "shuffle(temp)\n",
        "\n",
        "res1, res2, res3 = zip(*temp)\n",
        "sentences, sentiments_labels,  emotions_labels= list(res1), list(res2), list(res3)\n",
        "\n",
        "print(f\"There are {len(sentences)} sentences in the dataset.\\n\")\n",
        "print(f\"First sentence has {len(sentences[0].split())} words (after removing stopwords).\\n\")\n",
        "print(f\"First sentence has the following words: {sentences[0].split()}.\\n\")\n",
        "print(f\"There are {len(emotions_labels)} emotions labels in the dataset.\")\n",
        "print(f\"The first 5 labels are {emotions_labels[:5]}\\n\")\n",
        "print(f\"There are {len(sentiments_labels)} sentiment labels in the dataset.\\n\")\n",
        "print(f\"The first 5 labels are {sentiments_labels[:5]}\")"
      ]
    },
    {
      "cell_type": "markdown",
      "id": "011b39db",
      "metadata": {
        "id": "011b39db"
      },
      "source": [
        "## Training - Validation Split\n",
        "\n",
        "`train_val_split`, which given the list of sentences, the list of labels and the proportion of data for the training set, returns the training and validation sentences and labels:"
      ]
    },
    {
      "cell_type": "code",
      "execution_count": 91,
      "id": "9ce4e6fc",
      "metadata": {
        "id": "9ce4e6fc"
      },
      "outputs": [],
      "source": [
        "def train_val_split(sentences, labels, training_split):\n",
        "\n",
        "    # Compute the number of sentences that will be used for training (should be an integer)\n",
        "    train_size = int(len(sentences) * training_split) # YOUR CODE HERE\n",
        "\n",
        "    # Split the sentences and labels into train/validation splits\n",
        "    train_sentences = sentences[:train_size]\n",
        "    train_labels = labels[:train_size]\n",
        "\n",
        "    validation_sentences = sentences[train_size:]\n",
        "    validation_labels = labels[train_size:]\n",
        "\n",
        "    return train_sentences, validation_sentences, train_labels, validation_labels"
      ]
    },
    {
      "cell_type": "code",
      "execution_count": 92,
      "id": "04c9c0f9",
      "metadata": {
        "colab": {
          "base_uri": "https://localhost:8080/"
        },
        "id": "04c9c0f9",
        "outputId": "dc732e5c-b6e4-4a22-c1d5-9bc7e0e4d771"
      },
      "outputs": [
        {
          "output_type": "stream",
          "name": "stdout",
          "text": [
            "The longest tweet is 256 characters long!\n",
            "\n",
            "There are 960 sentences for training.\n",
            "There are 960 labels for training.\n",
            "\n",
            "There are 240 sentences for validation.\n",
            "There are 240 labels for validation.\n"
          ]
        }
      ],
      "source": [
        "train_sentences, val_sentences, train_labels, val_labels = train_val_split(sentences, sentiments_labels, TRAINING_SPLIT)\n",
        "\n",
        "# Test your function\n",
        "vocab_size = len(train_sentences)\n",
        "trunc_type='post'\n",
        "padding_type='post'\n",
        "oov_tok = \"<OOV>\"\n",
        "max_length = max([len(x) for x in sentences])\n",
        "MAXLEN = max_length\n",
        "\n",
        "print(f\"The longest tweet is {max_length} characters long!\\n\")\n",
        "print(f\"There are {len(train_sentences)} sentences for training.\")\n",
        "print(f\"There are {len(train_labels)} labels for training.\\n\")\n",
        "print(f\"There are {len(val_sentences)} sentences for validation.\")\n",
        "print(f\"There are {len(val_labels)} labels for validation.\")"
      ]
    },
    {
      "cell_type": "markdown",
      "id": "3ac98dde",
      "metadata": {
        "id": "3ac98dde"
      },
      "source": [
        "## Tokenization - Sequences and padding\n",
        "\n",
        "Now that you have sets for training and validation it is time for you to begin the tokenization process.\n",
        "\n",
        "Begin by completing the `fit_tokenizer` function below. This function should return a [Tokenizer](https://www.tensorflow.org/api_docs/python/tf/keras/preprocessing/text/Tokenizer) that has been fitted to the training sentences."
      ]
    },
    {
      "cell_type": "code",
      "execution_count": 93,
      "id": "2e202298",
      "metadata": {
        "id": "2e202298"
      },
      "outputs": [],
      "source": [
        "def fit_tokenizer(train_sentences, num_words, oov_token):\n",
        "\n",
        "    ### START CODE HERE\n",
        "\n",
        "    vocab_size = len(train_sentences)\n",
        "    trunc_type='post'\n",
        "    padding_type='post'\n",
        "    oov_tok = \"<OOV>\"\n",
        "    max_length = 120\n",
        "\n",
        "    # Instantiate the Tokenizer class, passing in the correct values for num_words and oov_token\n",
        "    tokenizer = Tokenizer(num_words=num_words, oov_token=oov_tok)\n",
        "\n",
        "    # Fit the tokenizer to the training sentences\n",
        "\n",
        "    # Generate the word index dictionary\n",
        "    tokenizer.fit_on_texts(train_sentences)\n",
        "    word_index = tokenizer.word_index\n",
        "\n",
        "\n",
        "    ### END CODE HERE\n",
        "\n",
        "    return tokenizer"
      ]
    },
    {
      "cell_type": "code",
      "execution_count": 94,
      "id": "82caa2fa",
      "metadata": {
        "colab": {
          "base_uri": "https://localhost:8080/"
        },
        "id": "82caa2fa",
        "outputId": "d5364c0a-4d84-478f-e4ef-90f4085221a1"
      },
      "outputs": [
        {
          "output_type": "stream",
          "name": "stdout",
          "text": [
            "Vocabulary contains 3913 words\n",
            "\n",
            "<OOV> token included in vocabulary\n"
          ]
        }
      ],
      "source": [
        "# Test your function\n",
        "tokenizer = fit_tokenizer(train_sentences, NUM_WORDS, OOV_TOKEN)\n",
        "word_index = tokenizer.word_index\n",
        "\n",
        "print(f\"Vocabulary contains {len(word_index)} words\\n\")\n",
        "print(\"<OOV> token included in vocabulary\" if \"<OOV>\" in word_index else \"<OOV> token NOT included in vocabulary\")"
      ]
    },
    {
      "cell_type": "markdown",
      "id": "0450b0d6",
      "metadata": {
        "id": "0450b0d6"
      },
      "source": [
        "Now that the tokenizer has been fitted to the training data, you need a function that will convert each text data point into its padded sequence representation, for this complete the `seq_and_pad` function below:"
      ]
    },
    {
      "cell_type": "code",
      "execution_count": 95,
      "id": "9d19335a",
      "metadata": {
        "id": "9d19335a"
      },
      "outputs": [],
      "source": [
        "def seq_and_pad(sentences, tokenizer, padding, maxlen):\n",
        "\n",
        "    ### START CODE HERE\n",
        "    trunc_type='post'\n",
        "\n",
        "    # Convert sentences to sequences\n",
        "    sequences = tokenizer.texts_to_sequences(sentences)\n",
        "\n",
        "    # Pad the sequences using the correct padding and maxlen\n",
        "    padded_sequences = pad_sequences(sequences, maxlen=maxlen, padding=padding, truncating=trunc_type)\n",
        "\n",
        "    ### END CODE HERE\n",
        "\n",
        "    return padded_sequences"
      ]
    },
    {
      "cell_type": "code",
      "execution_count": 96,
      "id": "5339bed7",
      "metadata": {
        "colab": {
          "base_uri": "https://localhost:8080/"
        },
        "id": "5339bed7",
        "outputId": "1a2416b9-0d9d-4344-8093-f801f8246bf4"
      },
      "outputs": [
        {
          "output_type": "stream",
          "name": "stdout",
          "text": [
            "Padded training sequences have shape: (960, 256)\n",
            "\n",
            "Padded validation sequences have shape: (240, 256)\n"
          ]
        }
      ],
      "source": [
        "train_padded_seq = seq_and_pad(train_sentences, tokenizer, PADDING, MAXLEN)\n",
        "val_padded_seq = seq_and_pad(val_sentences, tokenizer, PADDING, MAXLEN)\n",
        "\n",
        "print(f\"Padded training sequences have shape: {train_padded_seq.shape}\\n\")\n",
        "print(f\"Padded validation sequences have shape: {val_padded_seq.shape}\")"
      ]
    },
    {
      "cell_type": "markdown",
      "id": "0599d0dc",
      "metadata": {
        "id": "0599d0dc"
      },
      "source": [
        "Finally you need to tokenize the labels. For this complete the `tokenize_labels` function below.\n",
        "\n",
        "A couple of things to note:\n",
        "- You should fit the tokenizer to all the labels to avoid the case of a particular label not being present in the validation set. Since you are dealing with labels there should never be an OOV label.\n",
        "\n",
        "\n",
        "- In the previous function you used the `pad_sequences` function which returns numpy arrays. Here you will not be using it since you don't need to pad the labels so you need to make the conversion to numpy arrays yourself.\n",
        "\n",
        "\n",
        "- The argument `split_labels` refers to the labels of a particular split (train or validation). This is because the function should work independently of the split being used.\n",
        "\n",
        "\n",
        "- Using Keras' Tokenizer yields values that start at 1 rather than at 0. This will present a problem when training since Keras usually expects the labels to start at 0. To work around this issue you could use an extra neuron in the last layer of your model. However this approach is rather hacky and not very clear. Instead you will substract 1 from every value of the labels that the function returns. Remember that when using numpy arrays you can simply do something like `np.array - 1` to accomplish this since numpy allows for vectorized operations."
      ]
    },
    {
      "cell_type": "code",
      "execution_count": 97,
      "id": "ac9156a2",
      "metadata": {
        "id": "ac9156a2"
      },
      "outputs": [],
      "source": [
        "def tokenize_labels(all_labels, split_labels):\n",
        "\n",
        "    # Instantiate the Tokenizer (no additional arguments needed)\n",
        "    label_tokenizer = Tokenizer()\n",
        "\n",
        "    # Fit the tokenizer on all the labels\n",
        "    label_tokenizer.fit_on_texts(all_labels)\n",
        "\n",
        "    # Convert labels to sequences\n",
        "    label_seq = label_tokenizer.texts_to_sequences(split_labels)\n",
        "\n",
        "    # Convert sequences to a numpy array. Don't forget to substact 1 from every entry in the array!\n",
        "    label_seq_np = np.array(label_seq)-1\n",
        "\n",
        "    return label_seq_np"
      ]
    },
    {
      "cell_type": "code",
      "execution_count": 98,
      "id": "97b911a9",
      "metadata": {
        "colab": {
          "base_uri": "https://localhost:8080/"
        },
        "id": "97b911a9",
        "outputId": "2ad1d631-6609-41bb-dbd6-46ad60fc8944"
      },
      "outputs": [
        {
          "output_type": "stream",
          "name": "stdout",
          "text": [
            "First 5 labels of the training set should look like this:\n",
            "[[0]\n",
            " [1]\n",
            " [1]\n",
            " [0]\n",
            " [0]]\n",
            "\n",
            "First 5 labels of the validation set should look like this:\n",
            "[[1]\n",
            " [1]\n",
            " [0]\n",
            " [0]\n",
            " [0]]\n",
            "\n",
            "Tokenized labels of the training set have shape: (960, 1)\n",
            "\n",
            "Tokenized labels of the validation set have shape: (240, 1)\n",
            "\n"
          ]
        }
      ],
      "source": [
        "train_label_seq = tokenize_labels(sentiments_labels, train_labels)\n",
        "val_label_seq = tokenize_labels(sentiments_labels, val_labels)\n",
        "\n",
        "print(f\"First 5 labels of the training set should look like this:\\n{train_label_seq[:5]}\\n\")\n",
        "print(f\"First 5 labels of the validation set should look like this:\\n{val_label_seq[:5]}\\n\")\n",
        "print(f\"Tokenized labels of the training set have shape: {train_label_seq.shape}\\n\")\n",
        "print(f\"Tokenized labels of the validation set have shape: {val_label_seq.shape}\\n\")"
      ]
    },
    {
      "cell_type": "markdown",
      "id": "409a3ba2",
      "metadata": {
        "id": "409a3ba2"
      },
      "source": [
        "## Selecting the model for text classification\n",
        "\n",
        "Now that the data is ready to be fed a Neural Network it is time for you to define the model that will classify each text as being part of a certain category.\n",
        "\n",
        "For this complete the `create_model` below.\n",
        "\n",
        "A couple of things to keep in mind:\n",
        "\n",
        "- Notice that this function has three parameters, all of which are meant to be passed to an [Embedding](https://www.tensorflow.org/api_docs/python/tf/keras/layers/Embedding) layer, which is what you will probably use as a first layer for your model.\n",
        "\n",
        "\n",
        "- The last layer should be a Dense layer with 5 units (since there are 5 categories) with a softmax activation.\n",
        "\n",
        "\n",
        "- You should also compile your model using an appropiate loss function and optimizer.\n",
        "\n",
        "\n",
        "- You can use any architecture you want but keep in mind that this problem doesn't need many layers to be solved successfully. You don't need any layers beside Embedding, [GlobalAveragePooling1D](https://www.tensorflow.org/api_docs/python/tf/keras/layers/GlobalAveragePooling1D) and Dense layers but feel free to try out different architectures."
      ]
    },
    {
      "cell_type": "code",
      "source": [
        "!pip install keras-tuner\n",
        "import kerastuner as kt\n",
        "\n",
        "def model_builder(hp):\n",
        "    model = tf.keras.Sequential()\n",
        "    model.add(tf.keras.layers.Embedding(NUM_WORDS + 1, EMBEDDING_DIM, input_length=MAXLEN))\n",
        "    model.add(tf.keras.layers.Conv1D(filters=hp.Int('filters', min_value=32, max_value=256, step=32), kernel_size=hp.Choice('kernel_size', values=[3, 5, 7]), activation='relu'))\n",
        "    model.add(tf.keras.layers.MaxPooling1D(pool_size=2))\n",
        "    model.add(tf.keras.layers.Dropout(0.3))\n",
        "    model.add(tf.keras.layers.Bidirectional(tf.keras.layers.GRU(hp.Int('gru_units', min_value=50, max_value=400, step=50), return_sequences=True)))\n",
        "    model.add(tf.keras.layers.Dropout(0.3))\n",
        "    model.add(tf.keras.layers.Bidirectional(tf.keras.layers.GRU(hp.Int('gru_units', min_value=50, max_value=400, step=50))))\n",
        "    model.add(tf.keras.layers.Dropout(0.3))\n",
        "    model.add(tf.keras.layers.Dense(hp.Int('dense_units', min_value=100, max_value=500, step=100), activation='relu'))\n",
        "    model.add(tf.keras.layers.Dropout(0.2))\n",
        "    model.add(tf.keras.layers.Dense(1, activation='sigmoid'))\n",
        "\n",
        "    model.compile(loss='binary_crossentropy', optimizer='adam', metrics=['accuracy'])\n",
        "    return model\n",
        "\n",
        "tuner = kt.RandomSearch(model_builder, objective='val_accuracy', max_trials=5)\n",
        "tuner.search(train_padded_seq, train_label_seq, epochs=10, validation_data=(val_padded_seq, val_label_seq))\n",
        "\n"
      ],
      "metadata": {
        "colab": {
          "base_uri": "https://localhost:8080/"
        },
        "id": "2ryqwD6DYMZT",
        "outputId": "94f6ff4a-86a0-4f69-9c0e-255606a13700"
      },
      "id": "2ryqwD6DYMZT",
      "execution_count": 99,
      "outputs": [
        {
          "output_type": "stream",
          "name": "stdout",
          "text": [
            "Requirement already satisfied: keras-tuner in /usr/local/lib/python3.10/dist-packages (1.4.7)\n",
            "Requirement already satisfied: keras in /usr/local/lib/python3.10/dist-packages (from keras-tuner) (3.5.0)\n",
            "Requirement already satisfied: packaging in /usr/local/lib/python3.10/dist-packages (from keras-tuner) (24.2)\n",
            "Requirement already satisfied: requests in /usr/local/lib/python3.10/dist-packages (from keras-tuner) (2.32.3)\n",
            "Requirement already satisfied: kt-legacy in /usr/local/lib/python3.10/dist-packages (from keras-tuner) (1.0.5)\n",
            "Requirement already satisfied: absl-py in /usr/local/lib/python3.10/dist-packages (from keras->keras-tuner) (1.4.0)\n",
            "Requirement already satisfied: numpy in /usr/local/lib/python3.10/dist-packages (from keras->keras-tuner) (1.26.4)\n",
            "Requirement already satisfied: rich in /usr/local/lib/python3.10/dist-packages (from keras->keras-tuner) (13.9.4)\n",
            "Requirement already satisfied: namex in /usr/local/lib/python3.10/dist-packages (from keras->keras-tuner) (0.0.8)\n",
            "Requirement already satisfied: h5py in /usr/local/lib/python3.10/dist-packages (from keras->keras-tuner) (3.12.1)\n",
            "Requirement already satisfied: optree in /usr/local/lib/python3.10/dist-packages (from keras->keras-tuner) (0.13.1)\n",
            "Requirement already satisfied: ml-dtypes in /usr/local/lib/python3.10/dist-packages (from keras->keras-tuner) (0.4.1)\n",
            "Requirement already satisfied: charset-normalizer<4,>=2 in /usr/local/lib/python3.10/dist-packages (from requests->keras-tuner) (3.4.0)\n",
            "Requirement already satisfied: idna<4,>=2.5 in /usr/local/lib/python3.10/dist-packages (from requests->keras-tuner) (3.10)\n",
            "Requirement already satisfied: urllib3<3,>=1.21.1 in /usr/local/lib/python3.10/dist-packages (from requests->keras-tuner) (2.2.3)\n",
            "Requirement already satisfied: certifi>=2017.4.17 in /usr/local/lib/python3.10/dist-packages (from requests->keras-tuner) (2024.8.30)\n",
            "Requirement already satisfied: typing-extensions>=4.5.0 in /usr/local/lib/python3.10/dist-packages (from optree->keras->keras-tuner) (4.12.2)\n",
            "Requirement already satisfied: markdown-it-py>=2.2.0 in /usr/local/lib/python3.10/dist-packages (from rich->keras->keras-tuner) (3.0.0)\n",
            "Requirement already satisfied: pygments<3.0.0,>=2.13.0 in /usr/local/lib/python3.10/dist-packages (from rich->keras->keras-tuner) (2.18.0)\n",
            "Requirement already satisfied: mdurl~=0.1 in /usr/local/lib/python3.10/dist-packages (from markdown-it-py>=2.2.0->rich->keras->keras-tuner) (0.1.2)\n",
            "Reloading Tuner from ./untitled_project/tuner0.json\n"
          ]
        }
      ]
    },
    {
      "cell_type": "code",
      "execution_count": 100,
      "id": "528697fa",
      "metadata": {
        "colab": {
          "base_uri": "https://localhost:8080/",
          "height": 1000
        },
        "id": "528697fa",
        "outputId": "e856aa0c-96a4-421a-82ae-dfcd28c0f9b5"
      },
      "outputs": [
        {
          "output_type": "stream",
          "name": "stderr",
          "text": [
            "/usr/local/lib/python3.10/dist-packages/keras/src/layers/core/embedding.py:90: UserWarning: Argument `input_length` is deprecated. Just remove it.\n",
            "  warnings.warn(\n"
          ]
        },
        {
          "output_type": "display_data",
          "data": {
            "text/plain": [
              "\u001b[1mModel: \"sequential_2\"\u001b[0m\n"
            ],
            "text/html": [
              "<pre style=\"white-space:pre;overflow-x:auto;line-height:normal;font-family:Menlo,'DejaVu Sans Mono',consolas,'Courier New',monospace\"><span style=\"font-weight: bold\">Model: \"sequential_2\"</span>\n",
              "</pre>\n"
            ]
          },
          "metadata": {}
        },
        {
          "output_type": "display_data",
          "data": {
            "text/plain": [
              "┏━━━━━━━━━━━━━━━━━━━━━━━━━━━━━━━━━━━━━━┳━━━━━━━━━━━━━━━━━━━━━━━━━━━━━┳━━━━━━━━━━━━━━━━━┓\n",
              "┃\u001b[1m \u001b[0m\u001b[1mLayer (type)                        \u001b[0m\u001b[1m \u001b[0m┃\u001b[1m \u001b[0m\u001b[1mOutput Shape               \u001b[0m\u001b[1m \u001b[0m┃\u001b[1m \u001b[0m\u001b[1m        Param #\u001b[0m\u001b[1m \u001b[0m┃\n",
              "┡━━━━━━━━━━━━━━━━━━━━━━━━━━━━━━━━━━━━━━╇━━━━━━━━━━━━━━━━━━━━━━━━━━━━━╇━━━━━━━━━━━━━━━━━┩\n",
              "│ embedding_2 (\u001b[38;5;33mEmbedding\u001b[0m)              │ ?                           │     \u001b[38;5;34m0\u001b[0m (unbuilt) │\n",
              "├──────────────────────────────────────┼─────────────────────────────┼─────────────────┤\n",
              "│ conv1d_2 (\u001b[38;5;33mConv1D\u001b[0m)                    │ ?                           │     \u001b[38;5;34m0\u001b[0m (unbuilt) │\n",
              "├──────────────────────────────────────┼─────────────────────────────┼─────────────────┤\n",
              "│ max_pooling1d_2 (\u001b[38;5;33mMaxPooling1D\u001b[0m)       │ ?                           │     \u001b[38;5;34m0\u001b[0m (unbuilt) │\n",
              "├──────────────────────────────────────┼─────────────────────────────┼─────────────────┤\n",
              "│ dropout_9 (\u001b[38;5;33mDropout\u001b[0m)                  │ ?                           │     \u001b[38;5;34m0\u001b[0m (unbuilt) │\n",
              "├──────────────────────────────────────┼─────────────────────────────┼─────────────────┤\n",
              "│ bidirectional_4 (\u001b[38;5;33mBidirectional\u001b[0m)      │ ?                           │     \u001b[38;5;34m0\u001b[0m (unbuilt) │\n",
              "├──────────────────────────────────────┼─────────────────────────────┼─────────────────┤\n",
              "│ dropout_10 (\u001b[38;5;33mDropout\u001b[0m)                 │ ?                           │     \u001b[38;5;34m0\u001b[0m (unbuilt) │\n",
              "├──────────────────────────────────────┼─────────────────────────────┼─────────────────┤\n",
              "│ bidirectional_5 (\u001b[38;5;33mBidirectional\u001b[0m)      │ ?                           │     \u001b[38;5;34m0\u001b[0m (unbuilt) │\n",
              "├──────────────────────────────────────┼─────────────────────────────┼─────────────────┤\n",
              "│ dropout_11 (\u001b[38;5;33mDropout\u001b[0m)                 │ ?                           │     \u001b[38;5;34m0\u001b[0m (unbuilt) │\n",
              "├──────────────────────────────────────┼─────────────────────────────┼─────────────────┤\n",
              "│ dense_5 (\u001b[38;5;33mDense\u001b[0m)                      │ ?                           │     \u001b[38;5;34m0\u001b[0m (unbuilt) │\n",
              "├──────────────────────────────────────┼─────────────────────────────┼─────────────────┤\n",
              "│ dropout_12 (\u001b[38;5;33mDropout\u001b[0m)                 │ ?                           │     \u001b[38;5;34m0\u001b[0m (unbuilt) │\n",
              "├──────────────────────────────────────┼─────────────────────────────┼─────────────────┤\n",
              "│ dense_6 (\u001b[38;5;33mDense\u001b[0m)                      │ ?                           │     \u001b[38;5;34m0\u001b[0m (unbuilt) │\n",
              "├──────────────────────────────────────┼─────────────────────────────┼─────────────────┤\n",
              "│ dropout_13 (\u001b[38;5;33mDropout\u001b[0m)                 │ ?                           │     \u001b[38;5;34m0\u001b[0m (unbuilt) │\n",
              "├──────────────────────────────────────┼─────────────────────────────┼─────────────────┤\n",
              "│ dense_7 (\u001b[38;5;33mDense\u001b[0m)                      │ ?                           │     \u001b[38;5;34m0\u001b[0m (unbuilt) │\n",
              "└──────────────────────────────────────┴─────────────────────────────┴─────────────────┘\n"
            ],
            "text/html": [
              "<pre style=\"white-space:pre;overflow-x:auto;line-height:normal;font-family:Menlo,'DejaVu Sans Mono',consolas,'Courier New',monospace\">┏━━━━━━━━━━━━━━━━━━━━━━━━━━━━━━━━━━━━━━┳━━━━━━━━━━━━━━━━━━━━━━━━━━━━━┳━━━━━━━━━━━━━━━━━┓\n",
              "┃<span style=\"font-weight: bold\"> Layer (type)                         </span>┃<span style=\"font-weight: bold\"> Output Shape                </span>┃<span style=\"font-weight: bold\">         Param # </span>┃\n",
              "┡━━━━━━━━━━━━━━━━━━━━━━━━━━━━━━━━━━━━━━╇━━━━━━━━━━━━━━━━━━━━━━━━━━━━━╇━━━━━━━━━━━━━━━━━┩\n",
              "│ embedding_2 (<span style=\"color: #0087ff; text-decoration-color: #0087ff\">Embedding</span>)              │ ?                           │     <span style=\"color: #00af00; text-decoration-color: #00af00\">0</span> (unbuilt) │\n",
              "├──────────────────────────────────────┼─────────────────────────────┼─────────────────┤\n",
              "│ conv1d_2 (<span style=\"color: #0087ff; text-decoration-color: #0087ff\">Conv1D</span>)                    │ ?                           │     <span style=\"color: #00af00; text-decoration-color: #00af00\">0</span> (unbuilt) │\n",
              "├──────────────────────────────────────┼─────────────────────────────┼─────────────────┤\n",
              "│ max_pooling1d_2 (<span style=\"color: #0087ff; text-decoration-color: #0087ff\">MaxPooling1D</span>)       │ ?                           │     <span style=\"color: #00af00; text-decoration-color: #00af00\">0</span> (unbuilt) │\n",
              "├──────────────────────────────────────┼─────────────────────────────┼─────────────────┤\n",
              "│ dropout_9 (<span style=\"color: #0087ff; text-decoration-color: #0087ff\">Dropout</span>)                  │ ?                           │     <span style=\"color: #00af00; text-decoration-color: #00af00\">0</span> (unbuilt) │\n",
              "├──────────────────────────────────────┼─────────────────────────────┼─────────────────┤\n",
              "│ bidirectional_4 (<span style=\"color: #0087ff; text-decoration-color: #0087ff\">Bidirectional</span>)      │ ?                           │     <span style=\"color: #00af00; text-decoration-color: #00af00\">0</span> (unbuilt) │\n",
              "├──────────────────────────────────────┼─────────────────────────────┼─────────────────┤\n",
              "│ dropout_10 (<span style=\"color: #0087ff; text-decoration-color: #0087ff\">Dropout</span>)                 │ ?                           │     <span style=\"color: #00af00; text-decoration-color: #00af00\">0</span> (unbuilt) │\n",
              "├──────────────────────────────────────┼─────────────────────────────┼─────────────────┤\n",
              "│ bidirectional_5 (<span style=\"color: #0087ff; text-decoration-color: #0087ff\">Bidirectional</span>)      │ ?                           │     <span style=\"color: #00af00; text-decoration-color: #00af00\">0</span> (unbuilt) │\n",
              "├──────────────────────────────────────┼─────────────────────────────┼─────────────────┤\n",
              "│ dropout_11 (<span style=\"color: #0087ff; text-decoration-color: #0087ff\">Dropout</span>)                 │ ?                           │     <span style=\"color: #00af00; text-decoration-color: #00af00\">0</span> (unbuilt) │\n",
              "├──────────────────────────────────────┼─────────────────────────────┼─────────────────┤\n",
              "│ dense_5 (<span style=\"color: #0087ff; text-decoration-color: #0087ff\">Dense</span>)                      │ ?                           │     <span style=\"color: #00af00; text-decoration-color: #00af00\">0</span> (unbuilt) │\n",
              "├──────────────────────────────────────┼─────────────────────────────┼─────────────────┤\n",
              "│ dropout_12 (<span style=\"color: #0087ff; text-decoration-color: #0087ff\">Dropout</span>)                 │ ?                           │     <span style=\"color: #00af00; text-decoration-color: #00af00\">0</span> (unbuilt) │\n",
              "├──────────────────────────────────────┼─────────────────────────────┼─────────────────┤\n",
              "│ dense_6 (<span style=\"color: #0087ff; text-decoration-color: #0087ff\">Dense</span>)                      │ ?                           │     <span style=\"color: #00af00; text-decoration-color: #00af00\">0</span> (unbuilt) │\n",
              "├──────────────────────────────────────┼─────────────────────────────┼─────────────────┤\n",
              "│ dropout_13 (<span style=\"color: #0087ff; text-decoration-color: #0087ff\">Dropout</span>)                 │ ?                           │     <span style=\"color: #00af00; text-decoration-color: #00af00\">0</span> (unbuilt) │\n",
              "├──────────────────────────────────────┼─────────────────────────────┼─────────────────┤\n",
              "│ dense_7 (<span style=\"color: #0087ff; text-decoration-color: #0087ff\">Dense</span>)                      │ ?                           │     <span style=\"color: #00af00; text-decoration-color: #00af00\">0</span> (unbuilt) │\n",
              "└──────────────────────────────────────┴─────────────────────────────┴─────────────────┘\n",
              "</pre>\n"
            ]
          },
          "metadata": {}
        },
        {
          "output_type": "display_data",
          "data": {
            "text/plain": [
              "\u001b[1m Total params: \u001b[0m\u001b[38;5;34m0\u001b[0m (0.00 B)\n"
            ],
            "text/html": [
              "<pre style=\"white-space:pre;overflow-x:auto;line-height:normal;font-family:Menlo,'DejaVu Sans Mono',consolas,'Courier New',monospace\"><span style=\"font-weight: bold\"> Total params: </span><span style=\"color: #00af00; text-decoration-color: #00af00\">0</span> (0.00 B)\n",
              "</pre>\n"
            ]
          },
          "metadata": {}
        },
        {
          "output_type": "display_data",
          "data": {
            "text/plain": [
              "\u001b[1m Trainable params: \u001b[0m\u001b[38;5;34m0\u001b[0m (0.00 B)\n"
            ],
            "text/html": [
              "<pre style=\"white-space:pre;overflow-x:auto;line-height:normal;font-family:Menlo,'DejaVu Sans Mono',consolas,'Courier New',monospace\"><span style=\"font-weight: bold\"> Trainable params: </span><span style=\"color: #00af00; text-decoration-color: #00af00\">0</span> (0.00 B)\n",
              "</pre>\n"
            ]
          },
          "metadata": {}
        },
        {
          "output_type": "display_data",
          "data": {
            "text/plain": [
              "\u001b[1m Non-trainable params: \u001b[0m\u001b[38;5;34m0\u001b[0m (0.00 B)\n"
            ],
            "text/html": [
              "<pre style=\"white-space:pre;overflow-x:auto;line-height:normal;font-family:Menlo,'DejaVu Sans Mono',consolas,'Courier New',monospace\"><span style=\"font-weight: bold\"> Non-trainable params: </span><span style=\"color: #00af00; text-decoration-color: #00af00\">0</span> (0.00 B)\n",
              "</pre>\n"
            ]
          },
          "metadata": {}
        },
        {
          "output_type": "stream",
          "name": "stdout",
          "text": [
            "Epoch 1/200\n",
            "\u001b[1m4/4\u001b[0m \u001b[32m━━━━━━━━━━━━━━━━━━━━\u001b[0m\u001b[37m\u001b[0m \u001b[1m8s\u001b[0m 453ms/step - accuracy: 0.4963 - loss: 0.6933 - val_accuracy: 0.4875 - val_loss: 0.6929\n",
            "Epoch 2/200\n",
            "\u001b[1m4/4\u001b[0m \u001b[32m━━━━━━━━━━━━━━━━━━━━\u001b[0m\u001b[37m\u001b[0m \u001b[1m2s\u001b[0m 174ms/step - accuracy: 0.5339 - loss: 0.6917 - val_accuracy: 0.5208 - val_loss: 0.6918\n",
            "Epoch 3/200\n",
            "\u001b[1m4/4\u001b[0m \u001b[32m━━━━━━━━━━━━━━━━━━━━\u001b[0m\u001b[37m\u001b[0m \u001b[1m1s\u001b[0m 163ms/step - accuracy: 0.5451 - loss: 0.6881 - val_accuracy: 0.5417 - val_loss: 0.6919\n",
            "Epoch 4/200\n",
            "\u001b[1m4/4\u001b[0m \u001b[32m━━━━━━━━━━━━━━━━━━━━\u001b[0m\u001b[37m\u001b[0m \u001b[1m1s\u001b[0m 145ms/step - accuracy: 0.6092 - loss: 0.6708 - val_accuracy: 0.5625 - val_loss: 0.7166\n",
            "Epoch 5/200\n",
            "\u001b[1m4/4\u001b[0m \u001b[32m━━━━━━━━━━━━━━━━━━━━\u001b[0m\u001b[37m\u001b[0m \u001b[1m1s\u001b[0m 138ms/step - accuracy: 0.6959 - loss: 0.6211 - val_accuracy: 0.5500 - val_loss: 0.7034\n",
            "Epoch 6/200\n",
            "\u001b[1m4/4\u001b[0m \u001b[32m━━━━━━━━━━━━━━━━━━━━\u001b[0m\u001b[37m\u001b[0m \u001b[1m1s\u001b[0m 133ms/step - accuracy: 0.7867 - loss: 0.4811 - val_accuracy: 0.6417 - val_loss: 0.7530\n",
            "Epoch 7/200\n",
            "\u001b[1m4/4\u001b[0m \u001b[32m━━━━━━━━━━━━━━━━━━━━\u001b[0m\u001b[37m\u001b[0m \u001b[1m1s\u001b[0m 133ms/step - accuracy: 0.8448 - loss: 0.3527 - val_accuracy: 0.6750 - val_loss: 0.7288\n",
            "Epoch 8/200\n",
            "\u001b[1m4/4\u001b[0m \u001b[32m━━━━━━━━━━━━━━━━━━━━\u001b[0m\u001b[37m\u001b[0m \u001b[1m1s\u001b[0m 131ms/step - accuracy: 0.9029 - loss: 0.2312 - val_accuracy: 0.6250 - val_loss: 1.1063\n",
            "Epoch 9/200\n",
            "\u001b[1m4/4\u001b[0m \u001b[32m━━━━━━━━━━━━━━━━━━━━\u001b[0m\u001b[37m\u001b[0m \u001b[1m1s\u001b[0m 131ms/step - accuracy: 0.9038 - loss: 0.2260 - val_accuracy: 0.6333 - val_loss: 0.8694\n",
            "Epoch 10/200\n",
            "\u001b[1m4/4\u001b[0m \u001b[32m━━━━━━━━━━━━━━━━━━━━\u001b[0m\u001b[37m\u001b[0m \u001b[1m1s\u001b[0m 130ms/step - accuracy: 0.9367 - loss: 0.1529 - val_accuracy: 0.6333 - val_loss: 0.9023\n",
            "Epoch 11/200\n",
            "\u001b[1m4/4\u001b[0m \u001b[32m━━━━━━━━━━━━━━━━━━━━\u001b[0m\u001b[37m\u001b[0m \u001b[1m1s\u001b[0m 132ms/step - accuracy: 0.9430 - loss: 0.1307 - val_accuracy: 0.6500 - val_loss: 1.1157\n",
            "Epoch 12/200\n",
            "\u001b[1m4/4\u001b[0m \u001b[32m━━━━━━━━━━━━━━━━━━━━\u001b[0m\u001b[37m\u001b[0m \u001b[1m1s\u001b[0m 132ms/step - accuracy: 0.9532 - loss: 0.0917 - val_accuracy: 0.6417 - val_loss: 1.3734\n",
            "Epoch 13/200\n",
            "\u001b[1m4/4\u001b[0m \u001b[32m━━━━━━━━━━━━━━━━━━━━\u001b[0m\u001b[37m\u001b[0m \u001b[1m1s\u001b[0m 133ms/step - accuracy: 0.9590 - loss: 0.1071 - val_accuracy: 0.6250 - val_loss: 1.3060\n",
            "Epoch 14/200\n",
            "\u001b[1m4/4\u001b[0m \u001b[32m━━━━━━━━━━━━━━━━━━━━\u001b[0m\u001b[37m\u001b[0m \u001b[1m1s\u001b[0m 142ms/step - accuracy: 0.9589 - loss: 0.0762 - val_accuracy: 0.6250 - val_loss: 1.4763\n",
            "Epoch 15/200\n",
            "\u001b[1m4/4\u001b[0m \u001b[32m━━━━━━━━━━━━━━━━━━━━\u001b[0m\u001b[37m\u001b[0m \u001b[1m1s\u001b[0m 132ms/step - accuracy: 0.9718 - loss: 0.0655 - val_accuracy: 0.6083 - val_loss: 1.6488\n",
            "Epoch 16/200\n",
            "\u001b[1m4/4\u001b[0m \u001b[32m━━━━━━━━━━━━━━━━━━━━\u001b[0m\u001b[37m\u001b[0m \u001b[1m1s\u001b[0m 132ms/step - accuracy: 0.9748 - loss: 0.0621 - val_accuracy: 0.6000 - val_loss: 1.7986\n",
            "Epoch 17/200\n",
            "\u001b[1m4/4\u001b[0m \u001b[32m━━━━━━━━━━━━━━━━━━━━\u001b[0m\u001b[37m\u001b[0m \u001b[1m1s\u001b[0m 131ms/step - accuracy: 0.9739 - loss: 0.0599 - val_accuracy: 0.6125 - val_loss: 1.9032\n",
            "Epoch 18/200\n",
            "\u001b[1m4/4\u001b[0m \u001b[32m━━━━━━━━━━━━━━━━━━━━\u001b[0m\u001b[37m\u001b[0m \u001b[1m1s\u001b[0m 135ms/step - accuracy: 0.9731 - loss: 0.0639 - val_accuracy: 0.6000 - val_loss: 1.9729\n",
            "Epoch 19/200\n",
            "\u001b[1m4/4\u001b[0m \u001b[32m━━━━━━━━━━━━━━━━━━━━\u001b[0m\u001b[37m\u001b[0m \u001b[1m1s\u001b[0m 133ms/step - accuracy: 0.9759 - loss: 0.0569 - val_accuracy: 0.6125 - val_loss: 1.9747\n",
            "Epoch 20/200\n",
            "\u001b[1m4/4\u001b[0m \u001b[32m━━━━━━━━━━━━━━━━━━━━\u001b[0m\u001b[37m\u001b[0m \u001b[1m1s\u001b[0m 133ms/step - accuracy: 0.9796 - loss: 0.0499 - val_accuracy: 0.6000 - val_loss: 2.0178\n",
            "Epoch 21/200\n",
            "\u001b[1m4/4\u001b[0m \u001b[32m━━━━━━━━━━━━━━━━━━━━\u001b[0m\u001b[37m\u001b[0m \u001b[1m1s\u001b[0m 131ms/step - accuracy: 0.9766 - loss: 0.0563 - val_accuracy: 0.6042 - val_loss: 2.0088\n",
            "Epoch 22/200\n",
            "\u001b[1m4/4\u001b[0m \u001b[32m━━━━━━━━━━━━━━━━━━━━\u001b[0m\u001b[37m\u001b[0m \u001b[1m1s\u001b[0m 133ms/step - accuracy: 0.9733 - loss: 0.0517 - val_accuracy: 0.6042 - val_loss: 2.0053\n",
            "Epoch 23/200\n",
            "\u001b[1m4/4\u001b[0m \u001b[32m━━━━━━━━━━━━━━━━━━━━\u001b[0m\u001b[37m\u001b[0m \u001b[1m1s\u001b[0m 150ms/step - accuracy: 0.9754 - loss: 0.0489 - val_accuracy: 0.6000 - val_loss: 2.0512\n",
            "Epoch 24/200\n",
            "\u001b[1m4/4\u001b[0m \u001b[32m━━━━━━━━━━━━━━━━━━━━\u001b[0m\u001b[37m\u001b[0m \u001b[1m1s\u001b[0m 138ms/step - accuracy: 0.9760 - loss: 0.0460 - val_accuracy: 0.6083 - val_loss: 2.0260\n",
            "Epoch 25/200\n",
            "\u001b[1m4/4\u001b[0m \u001b[32m━━━━━━━━━━━━━━━━━━━━\u001b[0m\u001b[37m\u001b[0m \u001b[1m1s\u001b[0m 140ms/step - accuracy: 0.9788 - loss: 0.0504 - val_accuracy: 0.5917 - val_loss: 2.1010\n",
            "Epoch 26/200\n",
            "\u001b[1m4/4\u001b[0m \u001b[32m━━━━━━━━━━━━━━━━━━━━\u001b[0m\u001b[37m\u001b[0m \u001b[1m1s\u001b[0m 145ms/step - accuracy: 0.9691 - loss: 0.0500 - val_accuracy: 0.6083 - val_loss: 2.1015\n",
            "Epoch 27/200\n",
            "\u001b[1m4/4\u001b[0m \u001b[32m━━━━━━━━━━━━━━━━━━━━\u001b[0m\u001b[37m\u001b[0m \u001b[1m1s\u001b[0m 139ms/step - accuracy: 0.9733 - loss: 0.0441 - val_accuracy: 0.6000 - val_loss: 2.2066\n",
            "Epoch 28/200\n",
            "\u001b[1m4/4\u001b[0m \u001b[32m━━━━━━━━━━━━━━━━━━━━\u001b[0m\u001b[37m\u001b[0m \u001b[1m1s\u001b[0m 134ms/step - accuracy: 0.9746 - loss: 0.0474 - val_accuracy: 0.5792 - val_loss: 2.2986\n",
            "Epoch 29/200\n",
            "\u001b[1m4/4\u001b[0m \u001b[32m━━━━━━━━━━━━━━━━━━━━\u001b[0m\u001b[37m\u001b[0m \u001b[1m1s\u001b[0m 144ms/step - accuracy: 0.9733 - loss: 0.0445 - val_accuracy: 0.6000 - val_loss: 2.2626\n",
            "Epoch 30/200\n",
            "\u001b[1m4/4\u001b[0m \u001b[32m━━━━━━━━━━━━━━━━━━━━\u001b[0m\u001b[37m\u001b[0m \u001b[1m1s\u001b[0m 133ms/step - accuracy: 0.9760 - loss: 0.0419 - val_accuracy: 0.5958 - val_loss: 2.3207\n",
            "Epoch 31/200\n",
            "\u001b[1m4/4\u001b[0m \u001b[32m━━━━━━━━━━━━━━━━━━━━\u001b[0m\u001b[37m\u001b[0m \u001b[1m1s\u001b[0m 138ms/step - accuracy: 0.9786 - loss: 0.0358 - val_accuracy: 0.5917 - val_loss: 2.4331\n",
            "Epoch 32/200\n",
            "\u001b[1m4/4\u001b[0m \u001b[32m━━━━━━━━━━━━━━━━━━━━\u001b[0m\u001b[37m\u001b[0m \u001b[1m1s\u001b[0m 148ms/step - accuracy: 0.9751 - loss: 0.0423 - val_accuracy: 0.5917 - val_loss: 2.5463\n",
            "Epoch 33/200\n",
            "\u001b[1m4/4\u001b[0m \u001b[32m━━━━━━━━━━━━━━━━━━━━\u001b[0m\u001b[37m\u001b[0m \u001b[1m1s\u001b[0m 153ms/step - accuracy: 0.9743 - loss: 0.0432 - val_accuracy: 0.5750 - val_loss: 2.6464\n",
            "Epoch 34/200\n",
            "\u001b[1m4/4\u001b[0m \u001b[32m━━━━━━━━━━━━━━━━━━━━\u001b[0m\u001b[37m\u001b[0m \u001b[1m1s\u001b[0m 139ms/step - accuracy: 0.9817 - loss: 0.0387 - val_accuracy: 0.5875 - val_loss: 2.6749\n"
          ]
        }
      ],
      "source": [
        "NUM_WORDS = 6000\n",
        "EMBEDDING_DIM = 200\n",
        "BATCH_SIZE = 256\n",
        "NUM_EPOCHS = 200\n",
        "\n",
        "model = create_model(NUM_WORDS, EMBEDDING_DIM, MAXLEN)\n",
        "callback = tf.keras.callbacks.EarlyStopping(monitor='loss', patience=3)\n",
        "\n",
        "history = model.fit(train_padded_seq, train_label_seq, epochs=NUM_EPOCHS, batch_size=BATCH_SIZE, validation_data=(val_padded_seq, val_label_seq), callbacks=[callback], verbose=1)"
      ]
    },
    {
      "cell_type": "code",
      "source": [],
      "metadata": {
        "id": "5bVtWn_DaGum"
      },
      "id": "5bVtWn_DaGum",
      "execution_count": 100,
      "outputs": []
    },
    {
      "cell_type": "markdown",
      "id": "7c432bfb",
      "metadata": {
        "id": "7c432bfb"
      },
      "source": [
        "Once training has finished you can run the following cell to check the training and validation accuracy achieved at the end of each epoch."
      ]
    },
    {
      "cell_type": "code",
      "execution_count": 101,
      "id": "i_rW5Xy__gC1",
      "metadata": {
        "colab": {
          "base_uri": "https://localhost:8080/",
          "height": 881
        },
        "id": "i_rW5Xy__gC1",
        "outputId": "2fe419be-6985-44b5-967f-063da6e3b56d"
      },
      "outputs": [
        {
          "output_type": "display_data",
          "data": {
            "text/plain": [
              "<Figure size 640x480 with 1 Axes>"
            ],
            "image/png": "[encoded data removed]"
          },
          "metadata": {}
        },
        {
          "output_type": "display_data",
          "data": {
            "text/plain": [
              "<Figure size 640x480 with 1 Axes>"
            ],
            "image/png": "[encoded data removed]"
          },
          "metadata": {}
        }
      ],
      "source": [
        "def plot_graphs(history, metric):\n",
        "    plt.plot(history.history[metric])\n",
        "    plt.plot(history.history[f'val_{metric}'])\n",
        "    plt.xlabel(\"Epochs\")\n",
        "    plt.ylabel(metric)\n",
        "    plt.legend([metric, f'val_{metric}'])\n",
        "    plt.show()\n",
        "\n",
        "plot_graphs(history, \"accuracy\")\n",
        "plot_graphs(history, \"loss\")"
      ]
    },
    {
      "cell_type": "code",
      "execution_count": 102,
      "id": "39ac0880",
      "metadata": {
        "colab": {
          "base_uri": "https://localhost:8080/",
          "height": 881
        },
        "id": "39ac0880",
        "outputId": "c3a1dd5b-d3c2-4b86-9b80-a90ffc92c8df"
      },
      "outputs": [
        {
          "output_type": "display_data",
          "data": {
            "text/plain": [
              "<Figure size 640x480 with 1 Axes>"
            ],
            "image/png": "[encoded data removed]"
          },
          "metadata": {}
        },
        {
          "output_type": "display_data",
          "data": {
            "text/plain": [
              "<Figure size 640x480 with 1 Axes>"
            ],
            "image/png": "[encoded data removed]"
          },
          "metadata": {}
        }
      ],
      "source": [
        "plot_graphs(history, \"accuracy\")\n",
        "plot_graphs(history, \"loss\")"
      ]
    },
    {
      "cell_type": "markdown",
      "id": "41c69b1a",
      "metadata": {
        "id": "41c69b1a"
      },
      "source": [
        "## Visualizing 3D Vectors\n",
        "\n",
        "We can visualize the vectors associated with each word in the training set in a 3D space.\n",
        "\n",
        "For this run the following cells and visit [Tensorflow's Embedding Projector](https://projector.tensorflow.org/)."
      ]
    },
    {
      "cell_type": "code",
      "execution_count": 103,
      "id": "b95d245f",
      "metadata": {
        "id": "b95d245f",
        "colab": {
          "base_uri": "https://localhost:8080/"
        },
        "outputId": "93ab9b80-dda6-4f56-d99a-10a8dba534e4"
      },
      "outputs": [
        {
          "output_type": "stream",
          "name": "stdout",
          "text": [
            "Weights of embedding layer have shape: (6001, 200)\n"
          ]
        }
      ],
      "source": [
        "# Reverse word index\n",
        "reverse_word_index = dict([(value, key) for (key, value) in word_index.items()])\n",
        "\n",
        "# Save the embedding layer\n",
        "e = model.layers[0]\n",
        "\n",
        "# Save the weights of the embedding layer\n",
        "weights = e.get_weights()[0]\n",
        "print(f\"Weights of embedding layer have shape: {weights.shape}\")"
      ]
    },
    {
      "cell_type": "markdown",
      "id": "eb987604",
      "metadata": {
        "id": "eb987604"
      },
      "source": [
        "Now run the following cell to generate the `vecs.tsv` and `meta.tsv` files that you will upload to the embedding projector."
      ]
    },
    {
      "cell_type": "code",
      "execution_count": 104,
      "id": "7450751a",
      "metadata": {
        "id": "7450751a"
      },
      "outputs": [],
      "source": [
        "# Generate files for embedding visualization\n",
        "out_v = io.open('vecs.tsv', 'w', encoding='utf-8')\n",
        "out_m = io.open('meta.tsv', 'w', encoding='utf-8')\n",
        "# Iterate through the actual keys in reverse_word_index instead of a fixed range\n",
        "for word_num in reverse_word_index.keys():\n",
        "    # Skip the '<OOV>' token (usually index 1)\n",
        "    if word_num == 1:\n",
        "        continue\n",
        "    word = reverse_word_index[word_num]\n",
        "    embeddings = weights[word_num]\n",
        "    out_m.write(word + \"\\n\")\n",
        "    out_v.write('\\t'.join([str(x) for x in embeddings]) + \"\\n\")\n",
        "out_v.close()\n",
        "out_m.close()"
      ]
    }
  ],
  "metadata": {
    "accelerator": "GPU",
    "colab": {
      "provenance": [],
      "include_colab_link": true
    },
    "kernelspec": {
      "display_name": "Python 3",
      "language": "python",
      "name": "python3"
    },
    "language_info": {
      "codemirror_mode": {
        "name": "ipython",
        "version": 3
      },
      "file_extension": ".py",
      "mimetype": "text/x-python",
      "name": "python",
      "nbconvert_exporter": "python",
      "pygments_lexer": "ipython3",
      "version": "3.10.11"
    }
  },
  "nbformat": 4,
  "nbformat_minor": 5
}